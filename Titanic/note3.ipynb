{
 "cells": [
  {
   "cell_type": "code",
   "execution_count": 10,
   "metadata": {},
   "outputs": [],
   "source": [
    "import pandas as pd\n",
    "import sklearn as sk\n",
    "import matplotlib.pyplot as plt\n",
    "\n",
    "# Load scikit's random forest classifier library\n",
    "from sklearn.ensemble import RandomForestClassifier\n",
    "\n",
    "# Read in training and testing csvs\n",
    "train_df = pd.read_csv(open('train.csv'))\n",
    "test_df = pd.read_csv(open('train.csv'))\n",
    "\n",
    "# Clean the train dataset: dropping name, ticket, cabin, ID, and embarked columns\n",
    "train_df.drop(['Name', 'Ticket', 'Cabin', 'Embarked'], axis=1, inplace=True) \n",
    "# One-hot encoding Gender\n",
    "train_df['m'] = (train_df['Sex'] == 'male')\n",
    "train_df['f'] = (train_df['Sex'] == 'female')\n",
    "train_df.drop(['Sex'], axis=1, inplace=True)\n",
    "# Replace Nan values in age column with average age\n",
    "train_mean_age = train_df['Age'].mean()\n",
    "train_df.fillna(value=train_mean_age, inplace=True);\n",
    "\n",
    "# Clean the test dataset in the same way as the train dataset: dropping name, ticket, cabin, ID, and embarked columns\n",
    "test_df.drop(['Name', 'Ticket', 'Cabin', 'Embarked'], axis=1, inplace=True) \n",
    "# One-hot encoding Gender\n",
    "test_df['m'] = (test_df['Sex'] == 'male')\n",
    "test_df['f'] = (test_df['Sex'] == 'female')\n",
    "test_df.drop(['Sex'], axis=1, inplace=True)\n",
    "# Replace Nan values in age column with average age\n",
    "test_mean_age = test_df['Age'].mean()\n",
    "test_df.fillna(value=test_mean_age, inplace=True);\n",
    "#Fill NaN value in fare column with mean fare in only the test dataset as it has some missing values\n",
    "test_df['Fare'].fillna(test_df['Fare'].mean(), inplace=True)\n",
    "# Drop the PassengerId column from the training dataset as we will not need it for training\n",
    "train_df.drop(['PassengerId'], axis=1, inplace=True)\n",
    "\n",
    "\n",
    "#Classifier\n",
    "clf = RandomForestClassifier(n_jobs=2, random_state=0)\n",
    "y = train_df['Survived']\n",
    "x = train_df.iloc[:,1:]\n",
    "clf.fit(x, y);\n",
    "\n",
    "#Predict\n",
    "survive = clf.predict(test_df.iloc[:, 2:])\n",
    "final = list(zip(test_df['PassengerId'], survive))\n",
    "final_prediction = pd.DataFrame(final, columns=['PassengerId', 'Survived'])\n",
    "final_prediction.to_csv('final_prediction8.csv', index=False)\n",
    "\n"
   ]
  },
  {
   "cell_type": "code",
   "execution_count": null,
   "metadata": {},
   "outputs": [],
   "source": []
  }
 ],
 "metadata": {
  "kernelspec": {
   "display_name": "Python 3",
   "language": "python",
   "name": "python3"
  },
  "language_info": {
   "codemirror_mode": {
    "name": "ipython",
    "version": 3
   },
   "file_extension": ".py",
   "mimetype": "text/x-python",
   "name": "python",
   "nbconvert_exporter": "python",
   "pygments_lexer": "ipython3",
   "version": "3.7.0"
  }
 },
 "nbformat": 4,
 "nbformat_minor": 2
}
